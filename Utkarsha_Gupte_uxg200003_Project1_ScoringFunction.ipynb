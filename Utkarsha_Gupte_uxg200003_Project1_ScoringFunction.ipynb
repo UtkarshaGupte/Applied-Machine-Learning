{
 "cells": [
  {
   "cell_type": "markdown",
   "id": "3f1b6667",
   "metadata": {},
   "source": [
    "## Model Scoring\n",
    "\n",
    "Write function that will load artifacts from above, transform and score on a new dataset.\n",
    "Your function should return Python list of labels. For example: [0,1,0,1,1,0,0]"
   ]
  },
  {
   "cell_type": "markdown",
   "id": "8792d671",
   "metadata": {},
   "source": [
    "Don't copy the code as is. It is provided as an example only. \n",
    "- Function `train_model` - you need to focus on model and encoder saving:\n",
    "    ```\n",
    "    pickle.dump(obj=clf, file=log_reg_file)\n",
    "    pickle.dump(obj=cat_encoders, file=encoders_file)\n",
    "    ```\n",
    "- Function `project_1_scoring` - you should have similar function with name `project_1_scoring`. The function will:\n",
    "    - Get Pandas dataframe as parameter\n",
    "    - Will load model and all needed encoders\n",
    "    - Will perform needed manipulations on the input Pandas DF - in the exact same format as input file for the project, minus MIS_Status feature\n",
    "    - Return probabilities as numpy array or Python list"
   ]
  },
  {
   "cell_type": "code",
   "execution_count": 1,
   "id": "4ab78a0e",
   "metadata": {},
   "outputs": [],
   "source": [
    "\n",
    "def project_1_scoring(data):\n",
    "    \"\"\"\n",
    "    Function to score input dataset.\n",
    "    \n",
    "    Input: dataset in Pandas DataFrame format\n",
    "    Output: Python list of labels in the same order as input records\n",
    "    \n",
    "    Flow:\n",
    "        - Load artifacts\n",
    "        - Transform dataset\n",
    "        - Score dataset\n",
    "        - Return labels\n",
    "    \n",
    "    \"\"\"\n",
    "    from category_encoders import TargetEncoder\n",
    "    from copy import deepcopy\n",
    "    from sklearn.tree import DecisionTreeClassifier\n",
    "    import pickle\n",
    "    import numpy as np\n",
    "    \n",
    "    '''Replacing Na/Null values'''\n",
    "    values_to_fill = {}\n",
    "    for col in data.drop(columns=['MIS_Status']).columns:\n",
    "        if data[col].dtype == 'object':\n",
    "            values_to_fill[col] = \"Missing\"\n",
    "        else:\n",
    "            values_to_fill[col] = 0\n",
    "\n",
    "    data.fillna(value=values_to_fill,inplace=True)\n",
    "    \n",
    "    '''Converting the strings styled as '$XXXX.XX' to float values'''\n",
    "    col_toFloat = ['DisbursementGross', 'BalanceGross', 'GrAppv', 'SBA_Appv']\n",
    "    for col in col_toFloat:\n",
    "        data[col] = data[col].apply(lambda x: (x.replace(' ','')))\n",
    "        data[col] = data[col].apply(lambda x: (x.replace(',','')))\n",
    "        data[col] = data[col].apply(lambda x: (x.replace('$','')))\n",
    "        data[col] = data[col].astype(float)\n",
    "        \n",
    "        \n",
    "    data['LoanDisbursedPerCity'] = data.groupby('City')['DisbursementGross'].transform(np.sum)\n",
    "    data['LoanPaid'] = data['DisbursementGross'] - data['BalanceGross']\n",
    "    \n",
    "    X = data.copy()\n",
    "    scaler_cols = ['Zip', 'NAICS', 'Term', 'NoEmp', 'NewExist', 'CreateJob', 'RetainedJob', \n",
    "                   'FranchiseCode', 'UrbanRural', 'DisbursementGross', 'BalanceGross', 'GrAppv', \n",
    "                   'SBA_Appv', 'LoanDisbursedPerCity', 'LoanPaid']\n",
    "    target_cols = ['City', 'State', 'Bank', 'BankState', 'RevLineCr', 'LowDoc']\n",
    "    \n",
    "      \n",
    "    \n",
    "    model_filename = './artifacts/finalized_model.pkl'\n",
    "    encoder_filename = './artifacts/cat_Encoders.pkl'\n",
    "    scaler_filename = './artifacts/scaler_Encoders.pkl'\n",
    "    \n",
    "    \n",
    "    '''Load Model and encoders'''\n",
    "    model_dtc_file = open(model_filename, \"rb\")\n",
    "    encoders_file = open(encoder_filename, \"rb\")\n",
    "    scaler_file = open(scaler_filename, \"rb\")\n",
    "    \n",
    "    dtc = pickle.load(file=model_dtc_file)\n",
    "    enc_dict = pickle.load(file=encoders_file)\n",
    "    scaler_dtc = pickle.load(file=scaler_file)\n",
    "   \n",
    "    \n",
    "    drop_columns = ['MIS_Status']\n",
    "    \n",
    "    '''Encode categorical columns using target encoding'''\n",
    "    for col in target_cols:\n",
    "        \n",
    "        enc = enc_dict[col][0]       \n",
    "        X[col + '_trg'] = enc.transform(X[[col]])\n",
    "        \n",
    "        X.drop([col], axis=1, inplace=True)\n",
    "        \n",
    "        \n",
    "    '''Encode numericals columns using MinMax scaler'''\n",
    "    X_temp = X.copy()\n",
    "    X_org = X[scaler_cols]    \n",
    "    X_temp = scaler_dtc.transform(X_org)\n",
    "   \n",
    "    enc_col_names = []\n",
    "    for val in scaler_cols:\n",
    "        enc_col_names.append(val + \"_sc\")\n",
    "   \n",
    "    X[enc_col_names] = X_temp    \n",
    "    X.drop(scaler_cols,axis=1,inplace=True)\n",
    "       \n",
    "    columns_to_score = set(X.columns) - set(drop_columns) \n",
    "    \n",
    "    y_pred = dtc.predict(X[columns_to_score])\n",
    "    \n",
    "    \n",
    "#     X = X.dropna()\n",
    "#     X['MIS_Status'] = X['MIS_Status'].map({'P I F':0, 'CHGOFF':1}).astype(int)\n",
    "#     yt = X['MIS_Status']\n",
    "#     Xt = X.drop(['MIS_Status'], axis=1)\n",
    "#     print(dtc.score(Xt,yt))\n",
    "    \n",
    "    model_dtc_file.close()\n",
    "    encoders_file.close()\n",
    "    scaler_file.close()\n",
    "    \n",
    "    return y_pred"
   ]
  },
  {
   "cell_type": "code",
   "execution_count": 2,
   "id": "967b0830",
   "metadata": {},
   "outputs": [],
   "source": [
    "import pandas as pd\n",
    "data_hold_out = pd.read_csv(r'C:\\Users\\General\\Documents\\UTD\\Semester 3\\Applied Machine Learning\\Projects\\SBA_loans_project_1\\X_test_utkarsha.csv')"
   ]
  },
  {
   "cell_type": "code",
   "execution_count": 3,
   "id": "b7230677",
   "metadata": {},
   "outputs": [],
   "source": [
    "import warnings\n",
    "warnings.filterwarnings('ignore')\n",
    "ans = project_1_scoring(data_hold_out)"
   ]
  },
  {
   "cell_type": "code",
   "execution_count": 4,
   "id": "d547ef2c",
   "metadata": {},
   "outputs": [
    {
     "data": {
      "text/plain": [
       "array([0, 0, 0, ..., 0, 0, 0])"
      ]
     },
     "execution_count": 4,
     "metadata": {},
     "output_type": "execute_result"
    }
   ],
   "source": [
    "ans"
   ]
  }
 ],
 "metadata": {
  "kernelspec": {
   "display_name": "Python 3 (ipykernel)",
   "language": "python",
   "name": "python3"
  },
  "language_info": {
   "codemirror_mode": {
    "name": "ipython",
    "version": 3
   },
   "file_extension": ".py",
   "mimetype": "text/x-python",
   "name": "python",
   "nbconvert_exporter": "python",
   "pygments_lexer": "ipython3",
   "version": "3.8.10"
  }
 },
 "nbformat": 4,
 "nbformat_minor": 5
}
